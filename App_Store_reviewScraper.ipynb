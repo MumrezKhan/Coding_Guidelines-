{
 "cells": [
  {
   "cell_type": "code",
   "execution_count": 3,
   "id": "06b2c344",
   "metadata": {
    "scrolled": true
   },
   "outputs": [
    {
     "name": "stdout",
     "output_type": "stream",
     "text": [
      "Collecting app_store_scraper\n",
      "  Downloading app_store_scraper-0.3.5-py3-none-any.whl.metadata (5.1 kB)\n",
      "Collecting requests==2.23.0 (from app_store_scraper)\n",
      "  Downloading requests-2.23.0-py2.py3-none-any.whl.metadata (6.8 kB)\n",
      "Collecting chardet<4,>=3.0.2 (from requests==2.23.0->app_store_scraper)\n",
      "  Downloading chardet-3.0.4-py2.py3-none-any.whl.metadata (3.2 kB)\n",
      "Collecting idna<3,>=2.5 (from requests==2.23.0->app_store_scraper)\n",
      "  Downloading idna-2.10-py2.py3-none-any.whl.metadata (9.1 kB)\n",
      "Collecting urllib3!=1.25.0,!=1.25.1,<1.26,>=1.21.1 (from requests==2.23.0->app_store_scraper)\n",
      "  Downloading urllib3-1.25.11-py2.py3-none-any.whl.metadata (41 kB)\n",
      "     -------------------------------------- 41.1/41.1 kB 489.2 kB/s eta 0:00:00\n",
      "Requirement already satisfied: certifi>=2017.4.17 in c:\\users\\khan shahfahad\\anaconda3\\lib\\site-packages (from requests==2.23.0->app_store_scraper) (2021.10.8)\n",
      "Downloading app_store_scraper-0.3.5-py3-none-any.whl (8.3 kB)\n",
      "Downloading requests-2.23.0-py2.py3-none-any.whl (58 kB)\n",
      "   ---------------------------------------- 58.4/58.4 kB 1.0 MB/s eta 0:00:00\n",
      "Downloading chardet-3.0.4-py2.py3-none-any.whl (133 kB)\n",
      "   ---------------------------------------- 133.4/133.4 kB 1.6 MB/s eta 0:00:00\n",
      "Downloading idna-2.10-py2.py3-none-any.whl (58 kB)\n",
      "   ---------------------------------------- 58.8/58.8 kB 1.0 MB/s eta 0:00:00\n",
      "Downloading urllib3-1.25.11-py2.py3-none-any.whl (127 kB)\n",
      "   ---------------------------------------- 128.0/128.0 kB 2.5 MB/s eta 0:00:00\n",
      "Installing collected packages: chardet, urllib3, idna, requests, app_store_scraper\n",
      "  Attempting uninstall: chardet\n",
      "    Found existing installation: chardet 4.0.0\n",
      "    Uninstalling chardet-4.0.0:\n",
      "      Successfully uninstalled chardet-4.0.0\n",
      "  Attempting uninstall: urllib3\n",
      "    Found existing installation: urllib3 1.26.7\n",
      "    Uninstalling urllib3-1.26.7:\n",
      "      Successfully uninstalled urllib3-1.26.7\n",
      "  Attempting uninstall: idna\n",
      "    Found existing installation: idna 3.2\n",
      "    Uninstalling idna-3.2:\n",
      "      Successfully uninstalled idna-3.2\n",
      "  Attempting uninstall: requests\n",
      "    Found existing installation: requests 2.26.0\n",
      "    Uninstalling requests-2.26.0:\n",
      "      Successfully uninstalled requests-2.26.0\n",
      "Successfully installed app_store_scraper-0.3.5 chardet-3.0.4 idna-2.10 requests-2.23.0 urllib3-1.25.11\n",
      "Note: you may need to restart the kernel to use updated packages.\n"
     ]
    },
    {
     "name": "stderr",
     "output_type": "stream",
     "text": [
      "DEPRECATION: pyodbc 4.0.0-unsupported has a non-standard version number. pip 24.0 will enforce this behaviour change. A possible replacement is to upgrade to a newer version of pyodbc or contact the author to suggest that they release a version with a conforming version number. Discussion can be found at https://github.com/pypa/pip/issues/12063\n",
      "ERROR: pip's dependency resolver does not currently take into account all the packages that are installed. This behaviour is the source of the following dependency conflicts.\n",
      "anaconda-project 0.10.1 requires ruamel-yaml, which is not installed.\n",
      "conda-repo-cli 1.0.4 requires pathlib, which is not installed.\n",
      "spyder 5.1.5 requires pyqt5<5.13, which is not installed.\n",
      "spyder 5.1.5 requires pyqtwebengine<5.13, which is not installed.\n",
      "\n",
      "[notice] A new release of pip is available: 23.3.1 -> 24.1.2\n",
      "[notice] To update, run: python.exe -m pip install --upgrade pip\n"
     ]
    }
   ],
   "source": [
    "pip install app_store_scraper\n"
   ]
  },
  {
   "cell_type": "code",
   "execution_count": 17,
   "id": "8f4dfc51",
   "metadata": {},
   "outputs": [
    {
     "name": "stderr",
     "output_type": "stream",
     "text": [
      "2024-08-07 17:02:43,067 [INFO] Base - Searching for app id\n",
      "2024-08-07 17:02:45,180 [INFO] Base - Initialised: AppStore('us', 'id363590051', 363590051)\n",
      "2024-08-07 17:02:45,180 [INFO] Base - Ready to fetch reviews from: https://apps.apple.com/us/app/id363590051/id363590051\n",
      "2024-08-07 17:02:50,728 [INFO] Base - [id:363590051] Fetched 200 reviews (200 fetched in total)\n",
      "2024-08-07 17:02:56,487 [INFO] Base - [id:363590051] Fetched 380 reviews (380 fetched in total)\n",
      "2024-08-07 17:03:02,171 [INFO] Base - [id:363590051] Fetched 580 reviews (580 fetched in total)\n",
      "2024-08-07 17:03:08,455 [INFO] Base - [id:363590051] Fetched 760 reviews (760 fetched in total)\n",
      "2024-08-07 17:03:14,357 [INFO] Base - [id:363590051] Fetched 940 reviews (940 fetched in total)\n",
      "2024-08-07 17:03:20,474 [INFO] Base - [id:363590051] Fetched 1120 reviews (1120 fetched in total)\n",
      "2024-08-07 17:03:26,924 [INFO] Base - [id:363590051] Fetched 1280 reviews (1280 fetched in total)\n",
      "2024-08-07 17:03:33,743 [INFO] Base - [id:363590051] Fetched 1460 reviews (1460 fetched in total)\n",
      "2024-08-07 17:03:39,576 [INFO] Base - [id:363590051] Fetched 1660 reviews (1660 fetched in total)\n",
      "2024-08-07 17:03:45,836 [INFO] Base - [id:363590051] Fetched 1880 reviews (1880 fetched in total)\n",
      "2024-08-07 17:03:51,732 [INFO] Base - [id:363590051] Fetched 2080 reviews (2080 fetched in total)\n",
      "2024-08-07 17:03:57,841 [INFO] Base - [id:363590051] Fetched 2260 reviews (2260 fetched in total)\n",
      "2024-08-07 17:04:03,749 [INFO] Base - [id:363590051] Fetched 2460 reviews (2460 fetched in total)\n",
      "2024-08-07 17:04:09,753 [INFO] Base - [id:363590051] Fetched 2660 reviews (2660 fetched in total)\n",
      "2024-08-07 17:04:16,009 [INFO] Base - [id:363590051] Fetched 2860 reviews (2860 fetched in total)\n",
      "2024-08-07 17:04:22,795 [INFO] Base - [id:363590051] Fetched 3060 reviews (3060 fetched in total)\n",
      "2024-08-07 17:04:30,106 [INFO] Base - [id:363590051] Fetched 3260 reviews (3260 fetched in total)\n",
      "2024-08-07 17:04:37,971 [INFO] Base - [id:363590051] Fetched 3420 reviews (3420 fetched in total)\n",
      "2024-08-07 17:04:44,044 [INFO] Base - [id:363590051] Fetched 3620 reviews (3620 fetched in total)\n",
      "2024-08-07 17:04:49,911 [INFO] Base - [id:363590051] Fetched 3800 reviews (3800 fetched in total)\n",
      "2024-08-07 17:04:55,708 [INFO] Base - [id:363590051] Fetched 3980 reviews (3980 fetched in total)\n",
      "2024-08-07 17:05:02,513 [INFO] Base - [id:363590051] Fetched 4160 reviews (4160 fetched in total)\n",
      "2024-08-07 17:05:08,206 [INFO] Base - [id:363590051] Fetched 4360 reviews (4360 fetched in total)\n",
      "2024-08-07 17:05:13,978 [INFO] Base - [id:363590051] Fetched 4560 reviews (4560 fetched in total)\n",
      "2024-08-07 17:05:19,715 [INFO] Base - [id:363590051] Fetched 4740 reviews (4740 fetched in total)\n",
      "2024-08-07 17:05:19,784 [WARNING] urllib3.connectionpool - Retrying (Retry(total=2, connect=None, read=None, redirect=None, status=None)) after connection broken by 'SSLError(SSLError(\"bad handshake: SysCallError(10054, 'WSAECONNRESET')\"))': /v1/catalog/us/apps/363590051/reviews?l=en-GB&offset=4740&limit=20&platform=web&additionalPlatforms=appletv%2Cipad%2Ciphone%2Cmac\n",
      "2024-08-07 17:05:27,826 [WARNING] urllib3.connectionpool - Retrying (Retry(total=1, connect=None, read=None, redirect=None, status=None)) after connection broken by 'ProxyError('Cannot connect to proxy.', NewConnectionError('<urllib3.connection.HTTPSConnection object at 0x000001DC5BA56BE0>: Failed to establish a new connection: [WinError 10061] No connection could be made because the target machine actively refused it'))': /v1/catalog/us/apps/363590051/reviews?l=en-GB&offset=4740&limit=20&platform=web&additionalPlatforms=appletv%2Cipad%2Ciphone%2Cmac\n",
      "2024-08-07 17:05:41,849 [WARNING] urllib3.connectionpool - Retrying (Retry(total=0, connect=None, read=None, redirect=None, status=None)) after connection broken by 'ProxyError('Cannot connect to proxy.', NewConnectionError('<urllib3.connection.HTTPSConnection object at 0x000001DC5BA56D60>: Failed to establish a new connection: [WinError 10061] No connection could be made because the target machine actively refused it'))': /v1/catalog/us/apps/363590051/reviews?l=en-GB&offset=4740&limit=20&platform=web&additionalPlatforms=appletv%2Cipad%2Ciphone%2Cmac\n",
      "2024-08-07 17:05:43,881 [ERROR] Base - Something went wrong: HTTPSConnectionPool(host='amp-api.apps.apple.com', port=443): Max retries exceeded with url: /v1/catalog/us/apps/363590051/reviews?l=en-GB&offset=4740&limit=20&platform=web&additionalPlatforms=appletv%2Cipad%2Ciphone%2Cmac (Caused by ProxyError('Cannot connect to proxy.', NewConnectionError('<urllib3.connection.HTTPSConnection object at 0x000001DC5BA569A0>: Failed to establish a new connection: [WinError 10061] No connection could be made because the target machine actively refused it')))\n",
      "2024-08-07 17:05:43,881 [INFO] Base - [id:363590051] Fetched 4740 reviews (4740 fetched in total)\n"
     ]
    },
    {
     "name": "stdout",
     "output_type": "stream",
     "text": [
      "Reviews saved to Netflix_Reviews.csv\n"
     ]
    }
   ],
   "source": [
    "import pandas as pd\n",
    "from app_store_scraper import AppStore\n",
    "import csv\n",
    "\n",
    "# Function to fetch reviews and save to CSV\n",
    "def fetch_reviews(app_id, app_country, num_reviews, csv_filename):\n",
    "    # Initialize the AppStore object\n",
    "    app = AppStore(country=app_country, app_name=app_id)\n",
    "\n",
    "    # Fetch reviews\n",
    "    app.review(how_many=num_reviews)\n",
    "\n",
    "    # Extract reviews\n",
    "    reviews = app.reviews\n",
    "\n",
    "    # Prepare data for CSV\n",
    "    reviews_data = []\n",
    "    for review in reviews:\n",
    "        reviews_data.append([\n",
    "            review.get('id', 'N/A'),  # Changed key to 'id'\n",
    "            review.get('userName', 'N/A'),\n",
    "            review.get('date', 'N/A'),\n",
    "            review.get('title', 'N/A'),\n",
    "            review.get('review', 'N/A'),\n",
    "            review.get('rating', 'N/A')\n",
    "        ])\n",
    "\n",
    "    # Define CSV column headers\n",
    "    csv_headers = ['Review ID', 'User Name', 'Date', 'Title', 'Review', 'Rating']\n",
    "\n",
    "    # Write reviews to CSV\n",
    "    with open(csv_filename, mode='w', newline='', encoding='utf-8') as file:\n",
    "        writer = csv.writer(file)\n",
    "        writer.writerow(csv_headers)\n",
    "        writer.writerows(reviews_data)\n",
    "\n",
    "    print(f\"Reviews saved to {csv_filename}\")\n",
    "\n",
    "# Configuration\n",
    "APP_ID = 'id363590051'  # Replace with your app's ID\n",
    "APP_COUNTRY = 'us'      # Replace with the country code\n",
    "NUM_REVIEWS = 5000       # Number of reviews to fetch\n",
    "CSV_FILENAME = 'Netflix_Reviews.csv'\n",
    "\n",
    "# Fetch and save reviews to CSV\n",
    "fetch_reviews(APP_ID, APP_COUNTRY, NUM_REVIEWS, CSV_FILENAME)\n"
   ]
  },
  {
   "cell_type": "code",
   "execution_count": null,
   "id": "4d4f965b",
   "metadata": {},
   "outputs": [],
   "source": []
  },
  {
   "cell_type": "code",
   "execution_count": null,
   "id": "166b292d",
   "metadata": {},
   "outputs": [],
   "source": []
  }
 ],
 "metadata": {
  "kernelspec": {
   "display_name": "Python 3 (ipykernel)",
   "language": "python",
   "name": "python3"
  },
  "language_info": {
   "codemirror_mode": {
    "name": "ipython",
    "version": 3
   },
   "file_extension": ".py",
   "mimetype": "text/x-python",
   "name": "python",
   "nbconvert_exporter": "python",
   "pygments_lexer": "ipython3",
   "version": "3.9.7"
  }
 },
 "nbformat": 4,
 "nbformat_minor": 5
}
