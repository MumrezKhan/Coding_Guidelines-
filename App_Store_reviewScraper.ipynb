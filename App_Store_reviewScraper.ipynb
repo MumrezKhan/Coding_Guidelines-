{
 "cells": [
  {
   "cell_type": "code",
   "execution_count": 5,
   "id": "dc93cb35-970a-46bf-bb3d-e9c09ace0ff7",
   "metadata": {},
   "outputs": [
    {
     "name": "stderr",
     "output_type": "stream",
     "text": [
      "2025-07-17 15:26:50,525 [INFO] Base - Initialised: AppStore('us', 'x', 333903271)\n",
      "2025-07-17 15:26:50,533 [INFO] Base - Ready to fetch reviews from: https://apps.apple.com/us/app/x/id333903271\n",
      "2025-07-17 15:26:51,364 [ERROR] Base - Something went wrong: Expecting value: line 1 column 1 (char 0)\n",
      "2025-07-17 15:26:51,366 [INFO] Base - [id:333903271] Fetched 0 reviews (0 fetched in total)\n"
     ]
    },
    {
     "name": "stdout",
     "output_type": "stream",
     "text": [
      "Reviews saved to X Reviews.csv\n"
     ]
    }
   ],
   "source": [
    "import pandas as pd\n",
    "from app_store_scraper import AppStore\n",
    "import csv\n",
    "\n",
    "def fetch_reviews(app_id, app_country, app_name, num_reviews, csv_filename):\n",
    "    app = AppStore(country=app_country, app_name=app_name, app_id=app_id)\n",
    "    app.review(how_many=num_reviews)\n",
    "    reviews = app.reviews\n",
    "\n",
    "    reviews_data = []\n",
    "    for review in reviews:\n",
    "        reviews_data.append([\n",
    "            review.get('id', 'N/A'),\n",
    "            review.get('userName', 'N/A'),\n",
    "            review.get('date', 'N/A'),\n",
    "            review.get('title', 'N/A'),\n",
    "            review.get('review', 'N/A'),\n",
    "            review.get('rating', 'N/A')\n",
    "        ])\n",
    "\n",
    "    csv_headers = ['Date', 'Title', 'Review', 'Rating']\n",
    "\n",
    "    with open(csv_filename, mode='w', newline='', encoding='utf-8') as file:\n",
    "        writer = csv.writer(file)\n",
    "        writer.writerow(csv_headers)\n",
    "        writer.writerows(reviews_data)\n",
    "\n",
    "    print(f\"Reviews saved to {csv_filename}\")\n",
    "\n",
    "# Config\n",
    "APP_ID = 333903271\n",
    "APP_COUNTRY = 'us'\n",
    "APP_NAME = 'X'  # Actual app name\n",
    "NUM_REVIEWS = 5000\n",
    "CSV_FILENAME = 'X Reviews.csv'\n",
    "\n",
    "fetch_reviews(APP_ID, APP_COUNTRY, APP_NAME, NUM_REVIEWS, CSV_FILENAME)"
   ]
  },
  {
   "cell_type": "code",
   "execution_count": null,
   "id": "9a0c2732-2803-4aeb-95c5-7afa1afb461d",
   "metadata": {},
   "outputs": [],
   "source": []
  }
 ],
 "metadata": {
  "kernelspec": {
   "display_name": "Python 3 (ipykernel)",
   "language": "python",
   "name": "python3"
  },
  "language_info": {
   "codemirror_mode": {
    "name": "ipython",
    "version": 3
   },
   "file_extension": ".py",
   "mimetype": "text/x-python",
   "name": "python",
   "nbconvert_exporter": "python",
   "pygments_lexer": "ipython3",
   "version": "3.12.7"
  }
 },
 "nbformat": 4,
 "nbformat_minor": 5
}
